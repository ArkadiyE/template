{
 "cells": [
  {
   "cell_type": "markdown",
   "metadata": {},
   "source": [
    "# Run fastqc for samples, generate multiqc report"
   ]
  },
  {
   "cell_type": "code",
   "execution_count": 1,
   "metadata": {},
   "outputs": [],
   "source": [
    "PATTERN=\"ve\"\n",
    "NPROC=128\n",
    "base_dir=\"../data\""
   ]
  },
  {
   "cell_type": "code",
   "execution_count": 2,
   "metadata": {},
   "outputs": [
    {
     "name": "stdout",
     "output_type": "stream",
     "text": [
      "total 3.8G\n",
      "drwxrwsr-x 16 ilya lab 4.0K Jun 22 11:37 \u001b[0m\u001b[01;34m.\u001b[0m\n",
      "drwxrwsr-x  6 ilya lab 4.0K Jun 22 11:20 \u001b[01;34m..\u001b[0m\n",
      "-rw-r--r--  1 ilya lab 1.9G Jun 22 11:27 \u001b[01;31mUndetermined_S0_R1_001.fastq.gz\u001b[0m\n",
      "-rw-r--r--  1 ilya lab 2.0G Jun 22 11:27 \u001b[01;31mUndetermined_S0_R2_001.fastq.gz\u001b[0m\n",
      "drwxrwsr-x  2 ilya lab 4.0K Jun 22 11:37 \u001b[01;34mve01\u001b[0m\n",
      "drwxrwsr-x  2 ilya lab 4.0K Jun 22 11:37 \u001b[01;34mve02\u001b[0m\n",
      "drwxrwsr-x  2 ilya lab 4.0K Jun 22 11:37 \u001b[01;34mve03\u001b[0m\n",
      "drwxrwsr-x  2 ilya lab 4.0K Jun 22 11:37 \u001b[01;34mve04\u001b[0m\n",
      "drwxrwsr-x  2 ilya lab 4.0K Jun 22 11:37 \u001b[01;34mve05\u001b[0m\n",
      "drwxrwsr-x  2 ilya lab 4.0K Jun 22 11:37 \u001b[01;34mve06\u001b[0m\n",
      "drwxrwsr-x  2 ilya lab 4.0K Jun 22 11:37 \u001b[01;34mve07\u001b[0m\n",
      "drwxrwsr-x  2 ilya lab 4.0K Jun 22 11:37 \u001b[01;34mve08\u001b[0m\n",
      "drwxrwsr-x  2 ilya lab 4.0K Jun 22 11:37 \u001b[01;34mve09\u001b[0m\n",
      "drwxrwsr-x  2 ilya lab 4.0K Jun 22 11:37 \u001b[01;34mve10\u001b[0m\n",
      "drwxrwsr-x  2 ilya lab 4.0K Jun 22 11:37 \u001b[01;34mve11\u001b[0m\n",
      "drwxrwsr-x  2 ilya lab 4.0K Jun 22 11:37 \u001b[01;34mve12\u001b[0m\n",
      "drwxrwsr-x  2 ilya lab 4.0K Jun 22 11:37 \u001b[01;34mve13\u001b[0m\n",
      "drwxrwsr-x  2 ilya lab 4.0K Jun 22 11:37 \u001b[01;34mve14\u001b[0m\n"
     ]
    }
   ],
   "source": [
    "ls -lah $base_dir"
   ]
  },
  {
   "cell_type": "code",
   "execution_count": 3,
   "metadata": {},
   "outputs": [
    {
     "name": "stdout",
     "output_type": "stream",
     "text": [
      "Running FastQC for  ../data/ve01\n",
      "Running FastQC for  ../data/ve02\n",
      "Running FastQC for  ../data/ve03\n",
      "Running FastQC for  ../data/ve04\n",
      "Running FastQC for  ../data/ve05\n",
      "Running FastQC for  ../data/ve06\n",
      "Running FastQC for  ../data/ve07\n",
      "Running FastQC for  ../data/ve08\n",
      "Running FastQC for  ../data/ve09\n",
      "Running FastQC for  ../data/ve10\n",
      "Running FastQC for  ../data/ve11\n",
      "Running FastQC for  ../data/ve12\n",
      "Running FastQC for  ../data/ve13\n",
      "Running FastQC for  ../data/ve14\n"
     ]
    }
   ],
   "source": [
    "fastqc_exe=\"/home/ilya/bin/FastQC/fastqc\"\n",
    "for sample in $(ls $base_dir | grep \"$PATTERN\")\n",
    "do\n",
    "    sample_dir=$base_dir/$sample\n",
    "    echo \"Running FastQC for \" $sample_dir\n",
    "    $fastqc_exe -q -t $NPROC -o $sample_dir $sample_dir/R1.fastq.gz $sample_dir/R2.fastq.gz\n",
    "done"
   ]
  },
  {
   "cell_type": "code",
   "execution_count": 4,
   "metadata": {},
   "outputs": [
    {
     "name": "stdout",
     "output_type": "stream",
     "text": [
      "\n",
      "  \u001b[34m/\u001b[0m\u001b[32m/\u001b[0m\u001b[31m/\u001b[0m \u001b]8;id=963756;https://multiqc.info\u001b\\\u001b[1mMultiQC\u001b[0m\u001b]8;;\u001b\\ 🔍 \u001b[2m| v1.11\u001b[0m\n",
      "\n",
      "\u001b[34m|           multiqc\u001b[0m | \u001b[33mMultiQC Version v1.12 now available!\u001b[0m\n",
      "\u001b[34m|           multiqc\u001b[0m | Prepending directory to sample names\n",
      "\u001b[34m|           multiqc\u001b[0m | Search path : /mnt/brick1/2022-06-22_RNA-Seq_VE/data\n",
      "\u001b[2K\u001b[34m|\u001b[0m         \u001b[34msearching\u001b[0m | \u001b[38;5;107m━━━━━━━━━━━━━━━━━━━━━━━━━━━━━━━━━━━━━━━━\u001b[0m \u001b[35m100%\u001b[0m \u001b[32m88/88\u001b[0m  m \u001b[2m../data/ve10/R1_fastqc.html\u001b[0mfastqc.html\u001b[0m\n",
      "\u001b[?25h\u001b[34m|            fastqc\u001b[0m | Found 28 reports\n",
      "\u001b[34m|           multiqc\u001b[0m | Compressing plot data\n",
      "\u001b[34m|           multiqc\u001b[0m | Report      : multiqc_report.html\n",
      "\u001b[34m|           multiqc\u001b[0m | Data        : multiqc_data\n",
      "\u001b[34m|           multiqc\u001b[0m | MultiQC complete\n"
     ]
    }
   ],
   "source": [
    "multiqc -d $base_dir"
   ]
  },
  {
   "cell_type": "code",
   "execution_count": null,
   "metadata": {},
   "outputs": [],
   "source": []
  }
 ],
 "metadata": {
  "kernelspec": {
   "display_name": "Bash",
   "language": "bash",
   "name": "bash"
  },
  "language_info": {
   "codemirror_mode": "shell",
   "file_extension": ".sh",
   "mimetype": "text/x-sh",
   "name": "bash"
  }
 },
 "nbformat": 4,
 "nbformat_minor": 4
}
